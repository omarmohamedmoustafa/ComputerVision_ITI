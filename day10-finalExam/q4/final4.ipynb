{
 "cells": [
  {
   "cell_type": "markdown",
   "metadata": {},
   "source": [
    "make 2 trackbar first one to switch between 2 images (0 ---> 1) and anther one to switch between 2 filter (canny, blur) (0 ---> 1) select preferred parameter for filters show the image in the same trackbar window when I press q stop the program.\n"
   ]
  },
  {
   "cell_type": "code",
   "execution_count": 2,
   "metadata": {},
   "outputs": [],
   "source": [
    "import cv2\n",
    "import numpy as np\n",
    "from matplotlib import pyplot as plt\n",
    "\n",
    "def CallBack(Copy_x):\n",
    "    pass\n",
    "\n",
    "cv2.namedWindow('Tracckbars_images')\n",
    "cv2.createTrackbar('ker', 'Tracckbars_images', 0, 60, CallBack)\n",
    "cv2.createTrackbar('mode', 'Tracckbars_images', 0, 1, CallBack)\n",
    "cv2.createTrackbar('image', 'Tracckbars_images', 0, 1, CallBack)\n",
    "cv2.createTrackbar('low_th', 'Tracckbars_images', 0,400, CallBack)\n",
    "cv2.createTrackbar('high_th', 'Tracckbars_images', 0,400, CallBack)\n",
    "\n",
    "#modes = ['Canny', 'Gaussian Blurring']\n",
    "#font = cv2.FONT_HERSHEY_SIMPLEX\n",
    "\n",
    "def canny_detection(img):\n",
    "    blurred = cv2.GaussianBlur(img,(5,5),0)\n",
    "    return cv2.Canny(blurred,cv2.getTrackbarPos('low_th', 'Tracckbars_images'),cv2.getTrackbarPos('high_th', 'Tracckbars_images'))\n",
    "\n",
    "while True:\n",
    "    image = cv2.getTrackbarPos('image','Tracckbars_images')\n",
    "    ker = cv2.getTrackbarPos('ker', 'Tracckbars_images')    \n",
    "    if ker%2 ==0:\n",
    "        ker+=1\n",
    "    if image==0:\n",
    "        img =cv2.imread('nature.jpg')\n",
    "        mode = cv2.getTrackbarPos('mode','Tracckbars_images')\n",
    "        if (mode == 0):\n",
    "            img= canny_detection(img)    \n",
    "        elif(mode == 1):\n",
    "            img = cv2.GaussianBlur(img,(ker,ker),5)\n",
    "        cv2.imshow('Tracckbars_images',img)\n",
    "        k=cv2.waitKey(10)\n",
    "        if k == ord('q'):\n",
    "            break\n",
    "    elif image == 1:\n",
    "        img =cv2.imread('Task_in.jpg')\n",
    "        mode = cv2.getTrackbarPos('mode','Tracckbars_images')\n",
    "        if (mode == 0):\n",
    "            img= canny_detection(img)\n",
    "        elif(mode == 1):\n",
    "            img = cv2.GaussianBlur(img,(ker,ker),5)\n",
    "        cv2.imshow('Tracckbars_images',img)\n",
    "        k=cv2.waitKey(10)\n",
    "        if k == ord('q'):\n",
    "            break\n",
    "    \n",
    "    #cv2.imshow('Tracckbars_images', image)\n",
    "    #k = cv2.waitKey(1) & 0xFF\n",
    "    #if k == ord('q'):\n",
    "    #   break\n",
    "    \n",
    "cv2.destroyAllWindows()"
   ]
  },
  {
   "cell_type": "code",
   "execution_count": null,
   "metadata": {},
   "outputs": [],
   "source": []
  }
 ],
 "metadata": {
  "kernelspec": {
   "display_name": "Python 3.10.7 64-bit",
   "language": "python",
   "name": "python3"
  },
  "language_info": {
   "codemirror_mode": {
    "name": "ipython",
    "version": 3
   },
   "file_extension": ".py",
   "mimetype": "text/x-python",
   "name": "python",
   "nbconvert_exporter": "python",
   "pygments_lexer": "ipython3",
   "version": "3.10.7"
  },
  "orig_nbformat": 4,
  "vscode": {
   "interpreter": {
    "hash": "ad0905b812c9e9641c723619cefd1f8619ed7e3f5df2705cac4d727889cb2e89"
   }
  }
 },
 "nbformat": 4,
 "nbformat_minor": 2
}
