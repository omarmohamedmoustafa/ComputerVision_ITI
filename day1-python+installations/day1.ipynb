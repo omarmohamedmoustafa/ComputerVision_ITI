{
 "cells": [
  {
   "cell_type": "markdown",
   "metadata": {},
   "source": [
    "# basics\n"
   ]
  },
  {
   "cell_type": "code",
   "execution_count": null,
   "metadata": {},
   "outputs": [],
   "source": [
    "import cv2\n"
   ]
  },
  {
   "cell_type": "code",
   "execution_count": null,
   "metadata": {},
   "outputs": [],
   "source": [
    "\n",
    "x = { 1, 2 , 3 , 40}\n",
    "print(x)\n"
   ]
  },
  {
   "cell_type": "code",
   "execution_count": null,
   "metadata": {},
   "outputs": [],
   "source": []
  },
  {
   "cell_type": "code",
   "execution_count": null,
   "metadata": {},
   "outputs": [],
   "source": [
    "import cv2\n",
    "import numpy as np\n",
    "import random\n",
    "\n",
    "# Set up the OpenCV window\n",
    "WINDOW_WIDTH = 600\n",
    "WINDOW_HEIGHT = 600\n",
    "window = np.zeros((WINDOW_HEIGHT, WINDOW_WIDTH, 3), np.uint8)\n",
    "\n",
    "# Set up the snake variables\n",
    "snake_block_size = 10\n",
    "snake_speed = 15\n",
    "snake_list = []\n",
    "snake_length = 1\n",
    "snake_x = WINDOW_WIDTH / 2\n",
    "snake_y = WINDOW_HEIGHT / 2\n",
    "snake_x_change = 0\n",
    "snake_y_change = 0\n",
    "\n",
    "# Set up the food variables\n",
    "food_block_size = 10\n",
    "food_x = round(random.randrange(0, WINDOW_WIDTH - food_block_size) / 10.0) * 10.0\n",
    "food_y = round(random.randrange(0, WINDOW_HEIGHT - food_block_size) / 10.0) * 10.0\n",
    "\n",
    "# Set up the main loop\n",
    "while True:\n",
    "\n",
    "    # Generate a new food block if the snake has eaten the previous one\n",
    "    if snake_x == food_x and snake_y == food_y:\n",
    "        food_x = round(random.randrange(0, WINDOW_WIDTH - food_block_size) / 10.0) * 10.0\n",
    "        food_y = round(random.randrange(0, WINDOW_HEIGHT - food_block_size) / 10.0) * 10.0\n",
    "        snake_length += 1\n",
    "\n",
    "    # Move the snake towards the food\n",
    "    if snake_x < food_x:\n",
    "        snake_x_change = snake_block_size\n",
    "        snake_y_change = 0\n",
    "    elif snake_x > food_x:\n",
    "        snake_x_change = -snake_block_size\n",
    "        snake_y_change = 0\n",
    "    elif snake_y < food_y:\n",
    "        snake_x_change = 0\n",
    "        snake_y_change = snake_block_size\n",
    "    elif snake_y > food_y:\n",
    "        snake_x_change = 0\n",
    "        snake_y_change = -snake_block_size\n",
    "\n",
    "    # Move the snake\n",
    "    snake_x += snake_x_change\n",
    "    snake_y += snake_y_change\n",
    "\n",
    "    # Check if the snake has hit the wall\n",
    "    if snake_x < 0 or snake_x >= WINDOW_WIDTH or snake_y < 0 or snake_y >= WINDOW_HEIGHT:\n",
    "        break\n",
    "\n",
    "    # Check if the snake has hit itself\n",
    "    if [snake_x, snake_y] in snake_list[:-1]:\n",
    "        break\n",
    "\n",
    "    # Add the snake's head to the snake list\n",
    "    snake_head = [snake_x, snake_y]\n",
    "    snake_list.append(snake_head)\n",
    "\n",
    "    # Remove the tail of the snake if its length exceeds snake_length\n",
    "    if len(snake_list) > snake_length:\n",
    "        del snake_list[0]\n",
    "\n",
    "    # Draw the game window\n",
    "    window[:] = (0, 0, 0)\n",
    "    for block in snake_list:\n",
    "        cv2.rectangle(window, (block[0], block[1]), (block[0]+snake_block_size, block[1]+snake_block_size), (255, 255, 255), -1)\n",
    "    cv2.rectangle(window, (int(food_x), int(food_y)), (int(food_x)+food_block_size, int(food_y)+food_block_size), (0, 0, 255), -1)\n",
    "    cv2.imshow(\"Snake Game\", window)\n",
    "\n",
    "    # Set the game speed\n",
    "    cv2.waitKey(snake_speed)\n",
    "\n",
    "# Quit OpenCV\n",
    "cv2.destroyAllWindows()\n"
   ]
  },
  {
   "cell_type": "code",
   "execution_count": 2,
   "metadata": {},
   "outputs": [
    {
     "data": {
      "text/plain": [
       "[1, 2, 3, 4, 5]"
      ]
     },
     "execution_count": 2,
     "metadata": {},
     "output_type": "execute_result"
    }
   ],
   "source": [
    "x =[1,2,3,4,5,]\n",
    "x"
   ]
  },
  {
   "cell_type": "code",
   "execution_count": 3,
   "metadata": {},
   "outputs": [
    {
     "name": "stdout",
     "output_type": "stream",
     "text": [
      "{1, 3, 4}\n",
      "1\n",
      "3\n",
      "4\n"
     ]
    }
   ],
   "source": [
    "\n",
    "x={1,1,1,3,4}\n",
    "print(x)\n",
    "for i in x : \n",
    "    print(i)"
   ]
  },
  {
   "cell_type": "code",
   "execution_count": 4,
   "metadata": {},
   "outputs": [
    {
     "data": {
      "text/plain": [
       "True"
      ]
     },
     "execution_count": 4,
     "metadata": {},
     "output_type": "execute_result"
    }
   ],
   "source": [
    "20.0 == 20.000000000000001"
   ]
  },
  {
   "cell_type": "code",
   "execution_count": 5,
   "metadata": {},
   "outputs": [
    {
     "data": {
      "text/plain": [
       "False"
      ]
     },
     "execution_count": 5,
     "metadata": {},
     "output_type": "execute_result"
    }
   ],
   "source": [
    "\"cat\">\"dog\""
   ]
  },
  {
   "cell_type": "code",
   "execution_count": 6,
   "metadata": {},
   "outputs": [
    {
     "data": {
      "text/plain": [
       "[2, 1]"
      ]
     },
     "execution_count": 6,
     "metadata": {},
     "output_type": "execute_result"
    }
   ],
   "source": [
    "x = [1,2,2,3,4]\n",
    "y = x[0:2]\n",
    "y[ : : -1]\n"
   ]
  },
  {
   "cell_type": "code",
   "execution_count": 7,
   "metadata": {},
   "outputs": [
    {
     "data": {
      "text/plain": [
       "32"
      ]
     },
     "execution_count": 7,
     "metadata": {},
     "output_type": "execute_result"
    }
   ],
   "source": [
    "2**5"
   ]
  },
  {
   "cell_type": "code",
   "execution_count": 8,
   "metadata": {},
   "outputs": [
    {
     "data": {
      "text/plain": [
       "2.6666666666666665"
      ]
     },
     "execution_count": 8,
     "metadata": {},
     "output_type": "execute_result"
    }
   ],
   "source": [
    "8/3"
   ]
  },
  {
   "cell_type": "code",
   "execution_count": 9,
   "metadata": {},
   "outputs": [
    {
     "data": {
      "text/plain": [
       "2"
      ]
     },
     "execution_count": 9,
     "metadata": {},
     "output_type": "execute_result"
    }
   ],
   "source": [
    "8//3"
   ]
  },
  {
   "cell_type": "markdown",
   "metadata": {},
   "source": [
    "formatting\n"
   ]
  },
  {
   "cell_type": "code",
   "execution_count": 10,
   "metadata": {},
   "outputs": [
    {
     "ename": "ValueError",
     "evalue": "invalid literal for int() with base 10: ''",
     "output_type": "error",
     "traceback": [
      "\u001b[1;31m---------------------------------------------------------------------------\u001b[0m",
      "\u001b[1;31mValueError\u001b[0m                                Traceback (most recent call last)",
      "Cell \u001b[1;32mIn[10], line 1\u001b[0m\n\u001b[1;32m----> 1\u001b[0m x \u001b[39m=\u001b[39m \u001b[39mint\u001b[39;49m(\u001b[39minput\u001b[39;49m(\u001b[39m\"\u001b[39;49m\u001b[39mEnter ur age :\u001b[39;49m\u001b[39m\"\u001b[39;49m))\n\u001b[0;32m      2\u001b[0m \u001b[39mprint\u001b[39m(x)\n\u001b[0;32m      3\u001b[0m \u001b[39mprint\u001b[39m(\u001b[39mtype\u001b[39m(x))\n",
      "\u001b[1;31mValueError\u001b[0m: invalid literal for int() with base 10: ''"
     ]
    }
   ],
   "source": [
    "x = int(input(\"Enter ur age :\"))\n",
    "print(x)\n",
    "print(type(x))\n",
    "#this is formatting for string\n",
    "#######################################\n",
    "print(f'user entered: {x}')\n",
    "# format 'Enterd value {x , y ,z ,l }'\n",
    "#all values between curly braces are formatted\n",
    "#######################################"
   ]
  },
  {
   "cell_type": "markdown",
   "metadata": {},
   "source": []
  },
  {
   "cell_type": "code",
   "execution_count": null,
   "metadata": {},
   "outputs": [],
   "source": [
    "x =int( input('Enter an integr :'))\n"
   ]
  },
  {
   "cell_type": "code",
   "execution_count": null,
   "metadata": {},
   "outputs": [],
   "source": []
  },
  {
   "cell_type": "markdown",
   "metadata": {},
   "source": [
    "Study\n",
    "\n"
   ]
  },
  {
   "cell_type": "code",
   "execution_count": null,
   "metadata": {},
   "outputs": [],
   "source": [
    "name = 'omar'\n",
    "print('hello' , name)"
   ]
  },
  {
   "cell_type": "markdown",
   "metadata": {},
   "source": [
    "list , set , dict\n",
    "[]   , {}  , "
   ]
  },
  {
   "cell_type": "code",
   "execution_count": null,
   "metadata": {},
   "outputs": [],
   "source": [
    "s = [1,2,3,4]\n",
    "print(type(s))\n",
    "print(help(s))"
   ]
  },
  {
   "cell_type": "code",
   "execution_count": null,
   "metadata": {},
   "outputs": [],
   "source": [
    "help(str)"
   ]
  },
  {
   "cell_type": "code",
   "execution_count": null,
   "metadata": {},
   "outputs": [],
   "source": [
    "s = 'hello'\n",
    "print(id(s),s)# id is the adress of object\n",
    "s = s+' world'\n",
    "print(id(s),s)"
   ]
  },
  {
   "cell_type": "code",
   "execution_count": null,
   "metadata": {},
   "outputs": [],
   "source": [
    "ahmed = ['one','two','three']\n",
    "x,y,z = ahmed\n",
    "print(x)\n",
    "print(y)\n",
    "print(z)"
   ]
  },
  {
   "cell_type": "code",
   "execution_count": null,
   "metadata": {},
   "outputs": [],
   "source": [
    "myList=[1,2,3,4,5]\n",
    "myList.reverse()\n",
    "print(myList)\n",
    "myList.sort()\n",
    "print(myList)"
   ]
  },
  {
   "cell_type": "code",
   "execution_count": null,
   "metadata": {},
   "outputs": [],
   "source": [
    "myList = [1,2,3,4,5,'omar','mohamed',['omar1',2]]\n",
    "print(myList[7][0][0])\n",
    "myList.insert(0,20)\n",
    "print(myList)\n",
    "#myList.sort()\n",
    "\n",
    "print(myList[-9::1])\n"
   ]
  },
  {
   "cell_type": "markdown",
   "metadata": {},
   "source": [
    "DICT\n",
    "indexed by keeeeeeeeeeeeeeeeeeeeeeeeeeeeey"
   ]
  },
  {
   "cell_type": "code",
   "execution_count": null,
   "metadata": {},
   "outputs": [],
   "source": [
    "myDict = {'name':'omar' , 'age': 22}\n",
    "myDict[\"name\"]"
   ]
  },
  {
   "cell_type": "markdown",
   "metadata": {},
   "source": [
    "Conditions"
   ]
  },
  {
   "cell_type": "code",
   "execution_count": null,
   "metadata": {},
   "outputs": [],
   "source": [
    "x =200\n",
    "if x > 40:\n",
    "    print(\"Hi\")"
   ]
  },
  {
   "cell_type": "markdown",
   "metadata": {},
   "source": []
  },
  {
   "cell_type": "code",
   "execution_count": null,
   "metadata": {},
   "outputs": [],
   "source": [
    "x = input(\"Enter an option :\")\n",
    "while(x !='q'):\n",
    "    if x.isdigit() or (x[0] == '-' and x[1:].isdigit()):\n",
    "        if int(x)%2 == 0:\n",
    "            print(\"Even\")\n",
    "        else:\n",
    "            print('odd')\n",
    "    else:\n",
    "        print('you entered :'+x)\n",
    "    x = input(\"Enter an option :\")\n",
    "\n",
    "print('program ended')\n"
   ]
  }
 ],
 "metadata": {
  "kernelspec": {
   "display_name": "Python 3.10.7 64-bit",
   "language": "python",
   "name": "python3"
  },
  "language_info": {
   "codemirror_mode": {
    "name": "ipython",
    "version": 3
   },
   "file_extension": ".py",
   "mimetype": "text/x-python",
   "name": "python",
   "nbconvert_exporter": "python",
   "pygments_lexer": "ipython3",
   "version": "3.10.10"
  },
  "orig_nbformat": 4,
  "vscode": {
   "interpreter": {
    "hash": "ad0905b812c9e9641c723619cefd1f8619ed7e3f5df2705cac4d727889cb2e89"
   }
  }
 },
 "nbformat": 4,
 "nbformat_minor": 2
}
