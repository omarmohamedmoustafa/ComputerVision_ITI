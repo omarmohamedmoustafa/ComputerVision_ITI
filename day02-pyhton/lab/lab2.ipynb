{
 "cells": [
  {
   "cell_type": "markdown",
   "metadata": {},
   "source": [
    "Q1 -Write a program to display the last digit of a number.\n",
    "\n"
   ]
  },
  {
   "cell_type": "code",
   "execution_count": null,
   "metadata": {},
   "outputs": [],
   "source": [
    "x = input('Enter a number to display the last digit :')\n",
    "print(x[-1])"
   ]
  },
  {
   "cell_type": "markdown",
   "metadata": {},
   "source": [
    "Q2- Write a program to check whether the last digit of a number( entered by user ) is\n",
    "divisible by 3 or not."
   ]
  },
  {
   "cell_type": "markdown",
   "metadata": {},
   "source": [
    "Q3- Write a program to accept a number from 1 to 7 and display the name of the day like 1 for Sunday\n",
    ", 2 for Monday and so on."
   ]
  },
  {
   "cell_type": "code",
   "execution_count": null,
   "metadata": {},
   "outputs": [],
   "source": [
    "x = input('enter a number to see the corresponding day :')\n",
    "while(x!= 'exit'):\n",
    "    if x.isdigit():\n",
    "    \n",
    "        if int(x)==1:\n",
    "            print('Saturday')\n",
    "            x = input('enter a number to see the corresponding day :')\n",
    "\n",
    "        elif int(x)==2:\n",
    "            print('Sunday')\n",
    "            x = input('enter a number to see the corresponding day :')\n",
    "\n",
    "        elif int(x)==3:\n",
    "            print('Monday')\n",
    "            x = input('enter a number to see the corresponding day :')\n",
    "\n",
    "        elif int(x)==4:\n",
    "            print('Tuesday')\n",
    "            x = input('enter a number to see the corresponding day :')\n",
    "\n",
    "        elif int(x)==5:\n",
    "            print('Wednesday')\n",
    "            x = input('enter a number to see the corresponding day :')\n",
    "\n",
    "        elif int(x)==6:\n",
    "            print('Thursday')\n",
    "            x = input('enter a number to see the corresponding day :')\n",
    "\n",
    "        elif int(x)==7:\n",
    "            print('Friday')\n",
    "            x = input('enter a number to see the corresponding day :')\n",
    "        \n",
    "    else:\n",
    "        print('Wrong Entry')\n",
    "        x = input('enter a number to see the corresponding day :')\n",
    "        \n",
    "                \n"
   ]
  },
  {
   "cell_type": "markdown",
   "metadata": {},
   "source": [
    "Q4- Write a program to check a character is vowel or not"
   ]
  },
  {
   "cell_type": "code",
   "execution_count": null,
   "metadata": {},
   "outputs": [],
   "source": [
    "x = input('Enter a character :')\n",
    "while(x!='exit'):\n",
    "    if x=='a' or x=='e' or x=='i' or x=='o' or x=='u':\n",
    "        print('this is vowel letter')\n",
    "    else:\n",
    "        print('Non-vowel')\n",
    "    x = input('Enter a character :')\n",
    "        "
   ]
  },
  {
   "cell_type": "markdown",
   "metadata": {},
   "source": [
    "Q5- Accept the marked price from the user and calculate the Net amount as(Marked Price –\n",
    "Discount) to pay according to following criteria:"
   ]
  },
  {
   "cell_type": "code",
   "execution_count": null,
   "metadata": {},
   "outputs": [],
   "source": [
    "x = input('Enter price to let me calculate the net amount after discount :')\n",
    "while(x.isdigit()):\n",
    "    if int(x)<=7000:\n",
    "        net = float(x) -float(x)*0.1\n",
    "        print(net)\n",
    "        x = input('Enter price to let me calculate the net amount after discount :')\n",
    "\n",
    "    elif 10000> int(x) >7000:\n",
    "        net = float(x) -float(x)*0.15\n",
    "        print(net)\n",
    "        x = input('Enter price to let me calculate the net amount after discount :')\n",
    "\n",
    "    elif int(x)>10000:\n",
    "        net = float(x) -float(x)*0.2\n",
    "        print(net)\n",
    "        x = input('Enter price to let me calculate the net amount after discount :')\n",
    "        \n",
    "print('enter a valid number')    "
   ]
  },
  {
   "cell_type": "markdown",
   "metadata": {},
   "source": [
    "Q6- Use a loop to display elements from a given list that are present at odd index positions\n",
    " lst = [10, 20, 30, 40, 50, 60, 70, 80, 90, 100]\n"
   ]
  },
  {
   "cell_type": "code",
   "execution_count": null,
   "metadata": {},
   "outputs": [],
   "source": [
    "lst = [10, 20, 30, 40, 50, 60, 70, 80, 90, 100]\n",
    "counter = 0\n",
    "for i in lst:\n",
    "    if counter%2 ==0:\n",
    "        print(i)\n",
    "    counter +=1\n",
    "    \n",
    "    "
   ]
  },
  {
   "cell_type": "markdown",
   "metadata": {},
   "source": [
    "Q7- Write program to print the following pattern using loop."
   ]
  },
  {
   "cell_type": "code",
   "execution_count": null,
   "metadata": {},
   "outputs": [],
   "source": [
    "for i in range(0, 5):  \n",
    "        for j in range(1, i + 1):  \n",
    "            print(j , end=\" \")       \n",
    "        print()  "
   ]
  },
  {
   "cell_type": "markdown",
   "metadata": {},
   "source": [
    "Q8 - Write a program that keep on accepting number from the user until user enters Zero. Display the\n",
    "sum and average of all the numbers"
   ]
  },
  {
   "cell_type": "code",
   "execution_count": null,
   "metadata": {},
   "outputs": [],
   "source": [
    "x = int(input('Enter some numbers and then zero to calc sum and avg'))\n",
    "count =0\n",
    "total =0\n",
    "while(x!= 0):\n",
    "    count+=1\n",
    "    total += x\n",
    "    avg = total/count\n",
    "    x = int(input('Enter some numbers and then zero to calc sum and avg'))\n",
    "print('****************************')\n",
    "print('Exit')\n",
    "print('SUM =',total)\n",
    "print('Averge =',avg)"
   ]
  },
  {
   "cell_type": "markdown",
   "metadata": {},
   "source": [
    "Q9- Generate a Python list of all the even numbers between 4 to 30"
   ]
  },
  {
   "cell_type": "code",
   "execution_count": null,
   "metadata": {},
   "outputs": [],
   "source": [
    "indx=0\n",
    "lst=[]\n",
    "for i in range(4,30,2):\n",
    "    lst.append(i)\n",
    "lst    \n",
    "   "
   ]
  },
  {
   "cell_type": "markdown",
   "metadata": {},
   "source": [
    "Q10- Make Method to Return the Maximum and Minimum item from the given list.\n",
    "lst=[100,30,22,40,60,20,10,300]"
   ]
  },
  {
   "cell_type": "code",
   "execution_count": null,
   "metadata": {},
   "outputs": [],
   "source": [
    "lst=[100,30,22,40,60,20,10,300]\n",
    "lst.sort()\n",
    "print('Max =',lst[-1])\n",
    "print ('Min =',lst[0])"
   ]
  }
 ],
 "metadata": {
  "kernelspec": {
   "display_name": "Python 3.10.7 64-bit (microsoft store)",
   "language": "python",
   "name": "python3"
  },
  "language_info": {
   "codemirror_mode": {
    "name": "ipython",
    "version": 3
   },
   "file_extension": ".py",
   "mimetype": "text/x-python",
   "name": "python",
   "nbconvert_exporter": "python",
   "pygments_lexer": "ipython3",
   "version": "3.10.7"
  },
  "orig_nbformat": 4,
  "vscode": {
   "interpreter": {
    "hash": "7537a6687ed5e8eab9f58f9a45f279b2fddd32bbd0d1ee5147f9a33ffabb85fe"
   }
  }
 },
 "nbformat": 4,
 "nbformat_minor": 2
}
