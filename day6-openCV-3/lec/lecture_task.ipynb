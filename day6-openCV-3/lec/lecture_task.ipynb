{
 "cells": [
  {
   "cell_type": "code",
   "execution_count": 3,
   "metadata": {},
   "outputs": [],
   "source": [
    "import cv2\n",
    "import numpy as np\n",
    "from matplotlib import pyplot as plt\n",
    "from math import sin , cos , pi\n",
    "\n",
    "#callback function for the trackbar return (useless here)\n",
    "def Callback(Copy_x):\n",
    "    pass\n",
    "#separate window for trackbars\n",
    "cv2.namedWindow('My_Clock')\n",
    "# a trackbar [0,360] for angle of orientation of the line\n",
    "cv2.createTrackbar('angle','My_Clock',0,360,Callback)\n",
    "radius = 400\n",
    "while True:\n",
    "    img = np.zeros((900,900,3),np.uint8)\n",
    "    x1=300*cos(np.deg2rad(cv2.getTrackbarPos('angle','My_Clock')-90))+radius\n",
    "    y1=300*sin(np.deg2rad(cv2.getTrackbarPos('angle','My_Clock')-90))+radius\n",
    "    x1= np.uint32(x1)\n",
    "    y1= np.uint32(y1)\n",
    "    cv2.line(img,(400,400),(x1,y1),(0,0,255),2)\n",
    "    cv2.circle(img,(400,400),300,(255,255,255),2)\n",
    "    cv2.imshow('My_Clock',img)\n",
    "    k=cv2.waitKey(1)\n",
    "    if k == ord('q'):\n",
    "        break\n",
    "cv2.destroyAllWindows()\n",
    "\n"
   ]
  },
  {
   "cell_type": "code",
   "execution_count": null,
   "metadata": {},
   "outputs": [],
   "source": []
  }
 ],
 "metadata": {
  "kernelspec": {
   "display_name": "Python 3.10.7 64-bit",
   "language": "python",
   "name": "python3"
  },
  "language_info": {
   "codemirror_mode": {
    "name": "ipython",
    "version": 3
   },
   "file_extension": ".py",
   "mimetype": "text/x-python",
   "name": "python",
   "nbconvert_exporter": "python",
   "pygments_lexer": "ipython3",
   "version": "3.10.7"
  },
  "orig_nbformat": 4,
  "vscode": {
   "interpreter": {
    "hash": "ad0905b812c9e9641c723619cefd1f8619ed7e3f5df2705cac4d727889cb2e89"
   }
  }
 },
 "nbformat": 4,
 "nbformat_minor": 2
}
