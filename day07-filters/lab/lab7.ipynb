{
 "cells": [
  {
   "cell_type": "code",
   "execution_count": 9,
   "metadata": {},
   "outputs": [],
   "source": [
    "import cv2\n",
    "import numpy as np\n",
    "import matplotlib.pyplot as plt"
   ]
  },
  {
   "cell_type": "markdown",
   "metadata": {},
   "source": [
    "Q1 load the following image and make red rectangle around face and write below\n",
    "rectangle “Cat” with yellow color."
   ]
  },
  {
   "cell_type": "code",
   "execution_count": 33,
   "metadata": {},
   "outputs": [],
   "source": [
    "img =cv2.imread('original.png')\n",
    "resized_img = cv2.resize(img,(800,800))\n",
    "cv2.rectangle(resized_img,(320,60),(650,450),(0,0,255),2)\n",
    "cv2.putText(resized_img,'Cat',(420,500),cv2.FONT_HERSHEY_SIMPLEX,2,(0,255,255),2)\n",
    "cv2.imshow('img',resized_img)\n",
    "cv2.waitKey(0)\n",
    "cv2.destroyAllWindows()\n"
   ]
  },
  {
   "cell_type": "markdown",
   "metadata": {},
   "source": [
    "Q2 load the following image and apply sharpen filter.\n"
   ]
  },
  {
   "cell_type": "code",
   "execution_count": 17,
   "metadata": {},
   "outputs": [],
   "source": [
    "img = cv2.imread('blurred.png')\n",
    "resized_img = cv2.resize(img,(800,800))\n",
    "kernel = np.array([[ -1 , -1 , -1 ],\n",
    "                   [ -1 ,  9  , -1],\n",
    "                   [-1 , -1  , -1 ]])\n",
    "sharpened_img=cv2.filter2D(resized_img,-1,kernel)                   \n",
    "cv2.imshow('img',sharpened_img)\n",
    "cv2.waitKey(0)\n",
    "cv2.destroyAllWindows()"
   ]
  },
  {
   "cell_type": "markdown",
   "metadata": {},
   "source": [
    "# Note : nearly shaqrpening did not change the photo \n",
    "# Note2 : increaing the kernel lights up the photo\n",
    "# Note 3 : decreasing the kernel blackens it up and shows only the edges"
   ]
  },
  {
   "cell_type": "markdown",
   "metadata": {},
   "source": [
    "Q3 load the following image and apply blur filter \n"
   ]
  },
  {
   "cell_type": "code",
   "execution_count": 32,
   "metadata": {},
   "outputs": [],
   "source": [
    "img = cv2.imread('sharpen.png')\n",
    "resized_img = cv2.resize(img,(800,800))\n",
    "kernel = np.ones((10,10),np.float32)/100\n",
    "blurred_img = cv2.filter2D(resized_img,-1,kernel)\n",
    "cv2.imshow('img',blurred_img)\n",
    "cv2.waitKey(0)\n",
    "cv2.destroyAllWindows()"
   ]
  },
  {
   "cell_type": "markdown",
   "metadata": {},
   "source": [
    "# Note : blurring through increasimg kernel sizes removes the noise made after sharpening "
   ]
  },
  {
   "cell_type": "markdown",
   "metadata": {},
   "source": []
  }
 ],
 "metadata": {
  "kernelspec": {
   "display_name": "Python 3.10.7 64-bit",
   "language": "python",
   "name": "python3"
  },
  "language_info": {
   "codemirror_mode": {
    "name": "ipython",
    "version": 3
   },
   "file_extension": ".py",
   "mimetype": "text/x-python",
   "name": "python",
   "nbconvert_exporter": "python",
   "pygments_lexer": "ipython3",
   "version": "3.10.7"
  },
  "orig_nbformat": 4,
  "vscode": {
   "interpreter": {
    "hash": "ad0905b812c9e9641c723619cefd1f8619ed7e3f5df2705cac4d727889cb2e89"
   }
  }
 },
 "nbformat": 4,
 "nbformat_minor": 2
}
