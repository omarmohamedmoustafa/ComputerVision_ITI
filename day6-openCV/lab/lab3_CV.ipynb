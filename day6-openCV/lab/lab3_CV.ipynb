{
 "cells": [
  {
   "cell_type": "code",
   "execution_count": null,
   "metadata": {},
   "outputs": [],
   "source": [
    "import numpy as np\n",
    "import cv2\n",
    "from matplotlib import pyplot as plt\n",
    "from math import cos , sin , pi\n",
    "import time"
   ]
  },
  {
   "cell_type": "markdown",
   "metadata": {},
   "source": [
    "Q1- Create image 256x256 Draw red square 50*50 in the center of blue circle with\n",
    "radius 80 the center of both square and circle is the same center of image."
   ]
  },
  {
   "cell_type": "code",
   "execution_count": null,
   "metadata": {},
   "outputs": [],
   "source": [
    "img = np.zeros((256,256,3),np.uint8)\n",
    "cv2.rectangle(img,(128-25,128-25),(128+25,128+25),(255,0,0),3)\n",
    "img[128,128]=[0,255,0]\n",
    "cv2.circle(img,(128,128),80,(0,0,255))\n",
    "plt.imshow(img)\n"
   ]
  },
  {
   "cell_type": "markdown",
   "metadata": {},
   "source": [
    "Q2 make trackbar to control line position ,color and thickness in image 500*500\n",
    "rgb."
   ]
  },
  {
   "cell_type": "code",
   "execution_count": null,
   "metadata": {},
   "outputs": [],
   "source": [
    "def CallBack(Copy_x):\n",
    "    pass\n",
    "cv2.namedWindow(\"My_line\")\n",
    "cv2.createTrackbar('X_Coord'  ,'My_line',0,449,CallBack)\n",
    "cv2.createTrackbar('Y_Coord'  ,'My_line',0,449,CallBack)\n",
    "cv2.createTrackbar('Color'    ,'My_line',0,255,CallBack)\n",
    "cv2.createTrackbar('Thickness','My_line',1, 10 ,CallBack)\n",
    "\n",
    "while True:\n",
    "    img = np.zeros((500,500,3),np.uint8)\n",
    "    x=cv2.getTrackbarPos('X_Coord','My_line')\n",
    "    y=cv2.getTrackbarPos('Y_Coord','My_line')\n",
    "    color=cv2.getTrackbarPos('Color','My_line')\n",
    "    Thick=cv2.getTrackbarPos('Thickness','My_line')\n",
    "    cv2.line(img,(200,200),(x,y),(color-60,color-50,color+20),Thick)\n",
    "    cv2.imshow('image',img)\n",
    "    k = cv2.waitKey(1)\n",
    "    if k == ord('q'):\n",
    "        break\n",
    "cv2.destroyAllWindows()\n",
    "\n"
   ]
  },
  {
   "cell_type": "markdown",
   "metadata": {},
   "source": [
    "Q3 make trackbar to control position,radius and color of circle in image 500*500\n",
    "rgb."
   ]
  },
  {
   "cell_type": "code",
   "execution_count": null,
   "metadata": {},
   "outputs": [],
   "source": [
    "from ast import Call\n",
    "\n",
    "\n",
    "def CallBack(Copy_x):\n",
    "    pass\n",
    "cv2.namedWindow(\"My_circle\")\n",
    "cv2.createTrackbar('X_Coord'  ,'My_circle',0,400,CallBack)\n",
    "cv2.createTrackbar('Y_Coord'  ,'My_circle',0,400,CallBack)\n",
    "cv2.createTrackbar('Color'    ,'My_circle',0,255,CallBack)\n",
    "cv2.createTrackbar('Radius','My_circle',0,200,CallBack)\n",
    "cv2.createTrackbar('Thickness','My_circle',1, 10 ,CallBack)\n",
    "while True:\n",
    "    img = np.zeros((500,500,3),np.uint8)\n",
    "    x=cv2.getTrackbarPos('X_Coord','My_circle')\n",
    "    y=cv2.getTrackbarPos('Y_Coord','My_circle')\n",
    "    color=cv2.getTrackbarPos('Color','My_circle')\n",
    "    Thick=cv2.getTrackbarPos('Thickness','My_circle')\n",
    "    Radius=cv2.getTrackbarPos('Radius','My_circle')\n",
    "    cv2.circle(img,(x,y),Radius,(color,0,color),Thick)\n",
    "    cv2.imshow('image',img)\n",
    "    k = cv2.waitKey(1)\n",
    "    if k == ord('q'):\n",
    "        break\n",
    "cv2.destroyAllWindows()\n"
   ]
  },
  {
   "cell_type": "markdown",
   "metadata": {},
   "source": [
    "Q4 create image 800*800 rgb write a word “Hello”with red color and draw yellow\n",
    "rectangle on border of word"
   ]
  },
  {
   "cell_type": "code",
   "execution_count": null,
   "metadata": {},
   "outputs": [],
   "source": [
    "img = np.zeros((800,800,3),np.uint8)\n",
    "cv2.putText(img,'Hello',(300,500),cv2.FONT_HERSHEY_COMPLEX,3,(255,0,0),12)\n",
    "plt.imshow(img)\n",
    "cv2.rectangle(img,(300,430),(555,511),(0,0,255),6)\n",
    "plt.imshow(img)"
   ]
  },
  {
   "cell_type": "markdown",
   "metadata": {},
   "source": [
    "Q5 create image 800*800 rgb with red circle in center of image with radius 100\n",
    "and make small blue circle with radius of 6 that move within circumference of the\n",
    "big circle every 1 second 10 degree."
   ]
  },
  {
   "cell_type": "code",
   "execution_count": 3,
   "metadata": {},
   "outputs": [],
   "source": [
    "import numpy as np\n",
    "import cv2\n",
    "from matplotlib import pyplot as plt\n",
    "from math import cos , sin , pi\n",
    "import time\n",
    "\n",
    "\n",
    "\n",
    "\n",
    "while True:\n",
    "    img = np.zeros((800,800,3),np.uint8)\n",
    "\n",
    "    for i in range (60):\n",
    "        cv2.circle(img,(400,400),100,(255,255,255),1)\n",
    "\n",
    "        sec= i*6-90\n",
    "        x1=100*cos(sec*pi/180)+400\n",
    "        y1=100*sin(sec*pi/180)+400\n",
    "        x1= np.uint16(x1)\n",
    "        y1= np.uint16(y1)\n",
    "        cv2.circle(img,(x1,y1),6,(255,0,0),2)\n",
    "        cv2.imshow('my_image',img)\n",
    "        img = np.zeros((800,800,3),np.uint8)\n",
    "\n",
    "        k=cv2.waitKey(1000)\n",
    "    \n",
    "    if k == ord('q'):\n",
    "        break\n",
    "cv2.destroyAllWindows()\n",
    "\n",
    "\n"
   ]
  }
 ],
 "metadata": {
  "kernelspec": {
   "display_name": "Python 3.10.7 64-bit",
   "language": "python",
   "name": "python3"
  },
  "language_info": {
   "codemirror_mode": {
    "name": "ipython",
    "version": 3
   },
   "file_extension": ".py",
   "mimetype": "text/x-python",
   "name": "python",
   "nbconvert_exporter": "python",
   "pygments_lexer": "ipython3",
   "version": "3.10.7"
  },
  "orig_nbformat": 4,
  "vscode": {
   "interpreter": {
    "hash": "ad0905b812c9e9641c723619cefd1f8619ed7e3f5df2705cac4d727889cb2e89"
   }
  }
 },
 "nbformat": 4,
 "nbformat_minor": 2
}
