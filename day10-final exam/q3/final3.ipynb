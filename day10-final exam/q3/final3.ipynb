{
 "cells": [
  {
   "cell_type": "markdown",
   "metadata": {},
   "source": [
    "apply on the following image the shown filter. image link:"
   ]
  },
  {
   "cell_type": "code",
   "execution_count": 5,
   "metadata": {},
   "outputs": [],
   "source": [
    "import cv2\n",
    "import numpy as np\n",
    "import matplotlib.pyplot as plt\n",
    "img = cv2.imread('blur.png')\n",
    "\n",
    "kernel = np.array(\n",
    "    [\n",
    "        [0 , -1 ,  0],\n",
    "        [-1,  5 , -1],\n",
    "        [0 , -1 ,  0]\n",
    "    ]\n",
    ", dtype=np.float32)\n",
    "filterd_img = cv2.filter2D(img,-1,kernel)\n",
    "cv2.imshow('img',filterd_img)\n",
    "cv2.waitKey(0)\n",
    "cv2.destroyAllWindows()\n"
   ]
  },
  {
   "cell_type": "code",
   "execution_count": null,
   "metadata": {},
   "outputs": [],
   "source": []
  }
 ],
 "metadata": {
  "kernelspec": {
   "display_name": "Python 3.10.7 64-bit",
   "language": "python",
   "name": "python3"
  },
  "language_info": {
   "codemirror_mode": {
    "name": "ipython",
    "version": 3
   },
   "file_extension": ".py",
   "mimetype": "text/x-python",
   "name": "python",
   "nbconvert_exporter": "python",
   "pygments_lexer": "ipython3",
   "version": "3.10.7"
  },
  "orig_nbformat": 4,
  "vscode": {
   "interpreter": {
    "hash": "ad0905b812c9e9641c723619cefd1f8619ed7e3f5df2705cac4d727889cb2e89"
   }
  }
 },
 "nbformat": 4,
 "nbformat_minor": 2
}
