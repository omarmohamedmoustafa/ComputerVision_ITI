{
 "cells": [
  {
   "cell_type": "markdown",
   "metadata": {},
   "source": [
    "Write a function that takes a list of various data types and returns a dictionary with data types as keys and with the data in the input list as items. Note: Function type() returns data type of input, example: type(3) will return int Sample input\n"
   ]
  },
  {
   "cell_type": "code",
   "execution_count": 14,
   "metadata": {},
   "outputs": [
    {
     "name": "stdout",
     "output_type": "stream",
     "text": [
      "{<class 'int'>: [10], <class 'str'>: ['omar'], <class 'tuple'>: [(1, 2, 3)], <class 'list'>: [[1, 2, 3.9]]}\n"
     ]
    }
   ],
   "source": [
    "lst = [9,10,'omar',(1,2,3), [1,2,3.9]]\n",
    "dict = {}\n",
    "counter = 0\n",
    "for x in range(len(lst)):\n",
    "    for i in lst:\n",
    "        x=type(i)\n",
    "        dict[x]=[i]\n",
    "print(dict)    "
   ]
  }
 ],
 "metadata": {
  "kernelspec": {
   "display_name": "Python 3.10.7 64-bit",
   "language": "python",
   "name": "python3"
  },
  "language_info": {
   "codemirror_mode": {
    "name": "ipython",
    "version": 3
   },
   "file_extension": ".py",
   "mimetype": "text/x-python",
   "name": "python",
   "nbconvert_exporter": "python",
   "pygments_lexer": "ipython3",
   "version": "3.10.7"
  },
  "orig_nbformat": 4,
  "vscode": {
   "interpreter": {
    "hash": "ad0905b812c9e9641c723619cefd1f8619ed7e3f5df2705cac4d727889cb2e89"
   }
  }
 },
 "nbformat": 4,
 "nbformat_minor": 2
}
