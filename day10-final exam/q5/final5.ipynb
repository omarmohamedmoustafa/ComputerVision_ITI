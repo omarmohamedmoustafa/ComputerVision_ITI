{
 "cells": [
  {
   "cell_type": "markdown",
   "metadata": {},
   "source": [
    "load the following image then use haar cascaded detection to detect face, eye and smile ,draw Red rectangle around face and write \"Face\" below rectangle ,draw Green Circle around eyes and write \"eye\"below it and draw Red rectangle around smile and write smile below rectangle , then when press \"b\" apply blur filter with kernel size 9 on just the face but when i press \"i\" show the image with detected (face,eye,smile)and words below it.when I press \"q\" stop the program. the initial state press \"i\"\n"
   ]
  },
  {
   "cell_type": "code",
   "execution_count": 1,
   "metadata": {},
   "outputs": [
    {
     "ename": "",
     "evalue": "",
     "output_type": "error",
     "traceback": [
      "\u001b[1;31mThe Kernel crashed while executing code in the the current cell or a previous cell. Please review the code in the cell(s) to identify a possible cause of the failure. Click <a href='https://aka.ms/vscodeJupyterKernelCrash'>here</a> for more info. View Jupyter <a href='command:jupyter.viewOutput'>log</a> for further details."
     ]
    }
   ],
   "source": [
    "import cv2\n",
    "from matplotlib import pyplot as plt\n",
    "flag =1\n",
    "faceClassifier = cv2.CascadeClassifier(cv2.data.haarcascades+'haarcascade_frontalface_default.xml')\n",
    "eyeClassifier  = cv2.CascadeClassifier(cv2.data.haarcascades+'haarcascade_eye.xml')\n",
    "smileClassifier= cv2.CascadeClassifier(cv2.data.haarcascades+'haarcascade_smile.xml')\n",
    "while True:\n",
    "    if flag ==1:\n",
    "        viola_i = cv2.imread('viola.jpg')\n",
    "        viola_grey = cv2.cvtColor(viola_i,cv2.COLOR_BGR2GRAY)\n",
    "        viola_face = faceClassifier.detectMultiScale(viola_grey,scaleFactor=1.05,minNeighbors=6,minSize=(60,60))\n",
    "\n",
    "        for x , y , width , height in viola_face:\n",
    "            cv2.rectangle(viola_i,(x,y),(x+width,y+height),(0,0,255),5)\n",
    "            face_slice = viola_grey[y:y+height,x:x+width]\n",
    "        cv2.putText(viola_i,'Face',(x+60,y+height+50),cv2.FONT_HERSHEY_SIMPLEX,2,(0,255,0),2)    \n",
    "        eyes = eyeClassifier.detectMultiScale(face_slice,scaleFactor=1.02,minNeighbors=15,minSize=(20,20))\n",
    "        for x_eye,y_eye,width_eye,height_eye in eyes:\n",
    "            cv2.circle(viola_i,(x+x_eye+17,y+y_eye+17),20,(0,255,0),4)\n",
    "            cv2.putText(viola_i,'Eye',(x+x_eye,y+y_eye+height_eye+20),cv2.FONT_HERSHEY_SIMPLEX,1,(0,255,0),2)    \n",
    "\n",
    "        smile = smileClassifier.detectMultiScale(face_slice,scaleFactor=1.2,minNeighbors=20,minSize=(60,60))\n",
    "        for x_smile, y_smile , width_smile , height_smile in smile:\n",
    "            cv2.rectangle(viola_i,(x+x_smile,y+y_smile),(x+x_smile+width_smile,y+y_smile+height_smile),(0,0,255),4)\n",
    "        cv2.putText(viola_i,'Smile',(x+x_smile+20,y+y_smile+90),cv2.FONT_HERSHEY_SIMPLEX,1,(0,255,0),4)    \n",
    "        cv2.imshow('image',viola_i)  \n",
    "    elif flag == 2:\n",
    "\n",
    "        viola_i = cv2.imread('viola.jpg')\n",
    "        viola_grey = cv2.cvtColor(viola_i,cv2.COLOR_BGR2GRAY)\n",
    "        viola_face = faceClassifier.detectMultiScale(viola_grey,scaleFactor=1.05,minNeighbors=6,minSize=(60,60))\n",
    "\n",
    "        for x , y , width , height in viola_face:\n",
    "            cv2.rectangle(viola_i,(x,y),(x+width,y+height),(0,0,255),5)\n",
    "            face_slice = viola_grey[y:y+height,x:x+width]\n",
    "            face=cv2.GaussianBlur(face_slice,(9,9),1)\n",
    "\n",
    "        cv2.putText(viola_i,'Face',(x+60,y+height+50),cv2.FONT_HERSHEY_SIMPLEX,2,(0,255,0),2)    \n",
    "        eyes = eyeClassifier.detectMultiScale(face_slice,scaleFactor=1.02,minNeighbors=15,minSize=(20,20))\n",
    "        for x_eye,y_eye,width_eye,height_eye in eyes:\n",
    "            cv2.circle(viola_i,(x+x_eye+17,y+y_eye+17),20,(0,255,0),4)\n",
    "            cv2.putText(viola_i,'Eye',(x+x_eye,y+y_eye+height_eye+20),cv2.FONT_HERSHEY_SIMPLEX,1,(0,255,0),2)    \n",
    "\n",
    "        smile = smileClassifier.detectMultiScale(face_slice,scaleFactor=1.2,minNeighbors=20,minSize=(60,60))\n",
    "        for x_smile, y_smile , width_smile , height_smile in smile:\n",
    "            cv2.rectangle(viola_i,(x+x_smile,y+y_smile),(x+x_smile+width_smile,y+y_smile+height_smile),(0,0,255),4)\n",
    "        cv2.putText(viola_i,'Smile',(x+x_smile+20,y+y_smile+90),cv2.FONT_HERSHEY_SIMPLEX,1,(0,255,0),4)            \n",
    "        cv2.imshow('image',viola_i)\n",
    "\n",
    "    k=cv2.waitKey(0)\n",
    "\n",
    "    if k ==ord('i'):\n",
    "        flag=1 \n",
    "    elif k == ord('b'):\n",
    "        flag=2\n",
    "    if k ==ord('q'):\n",
    "        break\n",
    "    cv2.destroyAllWindows()\n",
    "\n"
   ]
  },
  {
   "cell_type": "code",
   "execution_count": null,
   "metadata": {},
   "outputs": [],
   "source": []
  },
  {
   "cell_type": "markdown",
   "metadata": {},
   "source": []
  }
 ],
 "metadata": {
  "kernelspec": {
   "display_name": "Python 3.10.7 64-bit",
   "language": "python",
   "name": "python3"
  },
  "language_info": {
   "codemirror_mode": {
    "name": "ipython",
    "version": 3
   },
   "file_extension": ".py",
   "mimetype": "text/x-python",
   "name": "python",
   "nbconvert_exporter": "python",
   "pygments_lexer": "ipython3",
   "version": "3.10.7"
  },
  "orig_nbformat": 4,
  "vscode": {
   "interpreter": {
    "hash": "ad0905b812c9e9641c723619cefd1f8619ed7e3f5df2705cac4d727889cb2e89"
   }
  }
 },
 "nbformat": 4,
 "nbformat_minor": 2
}
