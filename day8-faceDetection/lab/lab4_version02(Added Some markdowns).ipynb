{
 "cells": [
  {
   "cell_type": "code",
   "execution_count": null,
   "metadata": {},
   "outputs": [],
   "source": [
    "import cv2\n",
    "import numpy as np\n",
    "from matplotlib import pyplot as plt"
   ]
  },
  {
   "cell_type": "markdown",
   "metadata": {},
   "source": [
    "read “Task_in” image and then print image shape ,plot the image using\n",
    "matplotlib"
   ]
  },
  {
   "cell_type": "code",
   "execution_count": null,
   "metadata": {},
   "outputs": [],
   "source": [
    "img = cv2.imread(\"Task_in.jpg\")\n",
    "print(img.shape)\n",
    "plt.imshow(img[:,:,::-1])"
   ]
  },
  {
   "cell_type": "markdown",
   "metadata": {},
   "source": [
    "Plot using OpenCV"
   ]
  },
  {
   "cell_type": "code",
   "execution_count": null,
   "metadata": {},
   "outputs": [],
   "source": [
    "cv2.imshow(\"my_image\",img)\n",
    "cv2.waitKey(0)\n",
    "cv2.destroyAllWindows()"
   ]
  },
  {
   "cell_type": "markdown",
   "metadata": {},
   "source": [
    " edit the right corner pixel to be red color then save the\n",
    "image as (.jpg,.npg) to your current folder name it “my_image.png” then read both\n",
    "image again. “Make your observation”."
   ]
  },
  {
   "cell_type": "code",
   "execution_count": null,
   "metadata": {},
   "outputs": [],
   "source": [
    "#print(img)\n",
    "img[20][20]=img[0][20] = [0,0,255]\n",
    "plt.imshow(img[:,:,::-1])\n",
    "cv2.imwrite('my_image.png',img)\n",
    "cv2.imwrite('my_image.jpg',img)"
   ]
  },
  {
   "cell_type": "markdown",
   "metadata": {},
   "source": [
    "NOTICE: the jpg image got compressed on saving, So on reading it again it got blurred "
   ]
  },
  {
   "cell_type": "code",
   "execution_count": null,
   "metadata": {},
   "outputs": [],
   "source": [
    "img = cv2.imread(\"my_image.jpg\")\n",
    "plt.imshow(img[:,:,::-1])\n",
    "#print(img)"
   ]
  },
  {
   "cell_type": "markdown",
   "metadata": {},
   "source": [
    "The PNG image was not affected upon saving and re-reading"
   ]
  },
  {
   "cell_type": "code",
   "execution_count": null,
   "metadata": {},
   "outputs": [],
   "source": [
    "img2= cv2.imread(\"my_image.png\")\n",
    "plt.imshow(img2[:,:,::-1])\n",
    "#print(img2)"
   ]
  },
  {
   "cell_type": "markdown",
   "metadata": {},
   "source": [
    "Q11- make 51x51x3 RGB image with Blue color then save it as”Blue.jpg”\n"
   ]
  },
  {
   "cell_type": "code",
   "execution_count": null,
   "metadata": {},
   "outputs": [],
   "source": [
    "blue=np.arange(7803).reshape(51,51,3)\n",
    "#print(blue)\n",
    "print(blue.shape)\n",
    "blue[:]=[0,0,255]\n",
    "print(blue)\n",
    "plt.imshow(blue)\n",
    "cv2.imwrite(\"blue.png\",blue)"
   ]
  },
  {
   "cell_type": "markdown",
   "metadata": {},
   "source": [
    "NOTE: on saving the blue image by cv2 , the RGB got converted to BGR"
   ]
  },
  {
   "cell_type": "markdown",
   "metadata": {},
   "source": [
    "Q12- Make trackbar for rgb colors with window “colors” ."
   ]
  },
  {
   "cell_type": "code",
   "execution_count": null,
   "metadata": {},
   "outputs": [],
   "source": [
    "def CallBack(Copy_x):\n",
    "    print(Copy_x)\n",
    "cv2.namedWindow(\"colors\")\n",
    "cv2.createTrackbar('R','colors',0,255,CallBack)\n",
    "cv2.createTrackbar('G','colors',0,255,CallBack)\n",
    "cv2.createTrackbar('B','colors',0,255,CallBack)\n",
    "img=np.zeros((500,500,3),np.uint8)\n",
    "while True:\n",
    "    r=cv2.getTrackbarPos('R','colors')\n",
    "    g=cv2.getTrackbarPos('G','colors')\n",
    "    b=cv2.getTrackbarPos('B','colors')\n",
    "    img[:]=[b,g,r]\n",
    "    cv2.imshow(\"colors\",img)\n",
    "    k=cv2.waitKey(10)\n",
    "    if k==ord('q'):\n",
    "        break\n",
    "cv2.destroyAllWindows()"
   ]
  }
 ],
 "metadata": {
  "kernelspec": {
   "display_name": "Python 3.10.7 64-bit",
   "language": "python",
   "name": "python3"
  },
  "language_info": {
   "codemirror_mode": {
    "name": "ipython",
    "version": 3
   },
   "file_extension": ".py",
   "mimetype": "text/x-python",
   "name": "python",
   "nbconvert_exporter": "python",
   "pygments_lexer": "ipython3",
   "version": "3.10.7"
  },
  "orig_nbformat": 4,
  "vscode": {
   "interpreter": {
    "hash": "ad0905b812c9e9641c723619cefd1f8619ed7e3f5df2705cac4d727889cb2e89"
   }
  }
 },
 "nbformat": 4,
 "nbformat_minor": 2
}
