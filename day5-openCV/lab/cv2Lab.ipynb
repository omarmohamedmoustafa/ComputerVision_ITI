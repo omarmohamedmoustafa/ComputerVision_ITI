{
 "cells": [
  {
   "cell_type": "code",
   "execution_count": 1,
   "metadata": {},
   "outputs": [],
   "source": [
    "import cv2\n",
    "import numpy as np\n",
    "from matplotlib import pyplot as plt"
   ]
  },
  {
   "cell_type": "markdown",
   "metadata": {},
   "source": [
    "Q1-Make 100*100 rgb pixel image with white background and make diagonal of image\n",
    "with black color."
   ]
  },
  {
   "cell_type": "code",
   "execution_count": 2,
   "metadata": {},
   "outputs": [
    {
     "data": {
      "text/plain": [
       "<matplotlib.image.AxesImage at 0x266651256f0>"
      ]
     },
     "execution_count": 2,
     "metadata": {},
     "output_type": "execute_result"
    },
    {
     "data": {
      "image/png": "[encoded data removed]",
      "text/plain": [
       "<Figure size 640x480 with 1 Axes>"
      ]
     },
     "metadata": {},
     "output_type": "display_data"
    }
   ],
   "source": [
    "img = np.zeros((100,100,3),np.uint8)\n",
    "img[:]=[255,255,255]\n",
    "\n",
    "for i , row in enumerate(img):\n",
    "    for j,col in enumerate(row):\n",
    "        if i==j:\n",
    "            img[i,j]=[0,0,0]\n",
    "plt.imshow(img)\n"
   ]
  },
  {
   "cell_type": "markdown",
   "metadata": {},
   "source": [
    "Q2- run video stream using your laptop camera and save frames when i press key\n",
    "“s” close camera when i press “q” ,name of images should be “img.png +{counter}”"
   ]
  },
  {
   "cell_type": "code",
   "execution_count": 8,
   "metadata": {},
   "outputs": [],
   "source": [
    "cap=cv2.VideoCapture(0)\n",
    "i=0\n",
    "while cap.isOpened():\n",
    "    stat, frame=cap.read()\n",
    "    if stat==True:\n",
    "        cv2.imshow(\"my_video\",frame)\n",
    "        \n",
    "        k=cv2.waitKey(16)\n",
    "        if k == ord('s'):\n",
    "            cv2.imwrite('img'+str(i)+'.png',frame)\n",
    "            i+=1\n",
    "        if k==ord('q'):\n",
    "            break\n",
    "    else:\n",
    "        cv2.destroyAllWindows()\n",
    "        break\n",
    "cap.release()\n",
    "cv2.destroyAllWindows()\n",
    "\n"
   ]
  },
  {
   "cell_type": "markdown",
   "metadata": {},
   "source": [
    "Q3\n",
    "Make 100*100 rgb pixel image with black background and make diagonal of image\n",
    "with (x) color such that x is came from rgb trackbar."
   ]
  },
  {
   "cell_type": "code",
   "execution_count": 11,
   "metadata": {},
   "outputs": [],
   "source": [
    "def CallBack(Copy_x):\n",
    "    pass\n",
    "cv2.namedWindow(\"colors\")\n",
    "cv2.createTrackbar('R','colors',0,100,CallBack)\n",
    "cv2.createTrackbar('G','colors',0,100,CallBack)\n",
    "cv2.createTrackbar('B','colors',0,100,CallBack)\n",
    "img=np.zeros((200,200,3),np.uint8)\n",
    "while True:\n",
    "    r=cv2.getTrackbarPos('R','colors')\n",
    "    g=cv2.getTrackbarPos('G','colors')\n",
    "    b=cv2.getTrackbarPos('B','colors')\n",
    "    for i,row in enumerate(img):\n",
    "        for j ,col in enumerate(row):\n",
    "            if i ==j:\n",
    "                img[i,j]=[b,g,r]\n",
    "                \n",
    "    cv2.imshow(\"colors\",img)\n",
    "    k=cv2.waitKey(10)\n",
    "    if k==ord('q'):\n",
    "        break\n",
    "cv2.destroyAllWindows()"
   ]
  },
  {
   "cell_type": "markdown",
   "metadata": {},
   "source": [
    "Q4\n",
    "create 100*100 rgb image with black background and make 1 vertical line and 1\n",
    "horizontal line the color of both should be controlled spereat from 2 trackbar\n",
    "First one “horz” and second one is “vert”"
   ]
  },
  {
   "cell_type": "code",
   "execution_count": 5,
   "metadata": {},
   "outputs": [],
   "source": [
    "img=np.zeros((100,100,3),np.uint8)\n",
    "img[:]=[0,0,0]\n",
    "def CallBack(Copy_x):\n",
    "    pass\n",
    "cv2.namedWindow(\"my_image\")\n",
    "cv2.createTrackbar('horz','my_image',0,255,CallBack)\n",
    "cv2.createTrackbar('vert','my_image',0,255,CallBack)\n",
    "while True:\n",
    "    img[:]=[0,0,0]\n",
    "    horz=cv2.getTrackbarPos('horz','my_image')\n",
    "    vert=cv2.getTrackbarPos('vert','my_image')\n",
    "    img[50,:]=[horz,0,0]\n",
    "    img[:,50]=[0,0,vert]\n",
    "    cv2.imshow('my_image',img)\n",
    "    k=cv2.waitKey(1)\n",
    "    if k== ord('q'):\n",
    "        break\n",
    "cv2.destroyAllWindows()"
   ]
  },
  {
   "cell_type": "markdown",
   "metadata": {},
   "source": [
    "Q5\n",
    "create 250*250 rgb image with black background and make 1 vertical line and 1\n",
    "horizontal line with red color and both should be controlled spereat from 2\n",
    "trackbar to select the horizontal line in which row and vertical line in which\n",
    "column.\n",
    "First one “horz” and second one is “vert” (Trackbar)"
   ]
  },
  {
   "cell_type": "code",
   "execution_count": 6,
   "metadata": {},
   "outputs": [],
   "source": [
    "img=np.zeros((250,250,3),np.uint8)\n",
    "img[:]=[0,0,0]\n",
    "def CallBack(Copy_x):\n",
    "    pass\n",
    "cv2.namedWindow(\"my_image\")\n",
    "cv2.createTrackbar('horz','my_image',0,249,CallBack)\n",
    "cv2.createTrackbar('vert','my_image',0,249,CallBack)\n",
    "while True:\n",
    "    img[:]=[0,0,0]\n",
    "    horz=cv2.getTrackbarPos('horz','my_image')\n",
    "    vert=cv2.getTrackbarPos('vert','my_image')\n",
    "    img[horz,:]=[0,0,255]\n",
    "    img[:,vert]=[0,0,255]\n",
    "    cv2.imshow('my_image',img)\n",
    "    k=cv2.waitKey(1)\n",
    "    if k== ord('q'):\n",
    "        break\n",
    "cv2.destroyAllWindows()"
   ]
  },
  {
   "cell_type": "code",
   "execution_count": null,
   "metadata": {},
   "outputs": [],
   "source": []
  }
 ],
 "metadata": {
  "kernelspec": {
   "display_name": "Python 3.10.7 64-bit",
   "language": "python",
   "name": "python3"
  },
  "language_info": {
   "codemirror_mode": {
    "name": "ipython",
    "version": 3
   },
   "file_extension": ".py",
   "mimetype": "text/x-python",
   "name": "python",
   "nbconvert_exporter": "python",
   "pygments_lexer": "ipython3",
   "version": "3.10.7"
  },
  "orig_nbformat": 4,
  "vscode": {
   "interpreter": {
    "hash": "ad0905b812c9e9641c723619cefd1f8619ed7e3f5df2705cac4d727889cb2e89"
   }
  }
 },
 "nbformat": 4,
 "nbformat_minor": 2
}
